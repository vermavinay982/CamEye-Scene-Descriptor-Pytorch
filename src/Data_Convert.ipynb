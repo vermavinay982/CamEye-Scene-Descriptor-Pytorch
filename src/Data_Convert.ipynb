{
 "cells": [
  {
   "cell_type": "code",
   "execution_count": 1,
   "id": "5ece847a-b902-4ffd-91e7-7ad3e3e395d6",
   "metadata": {},
   "outputs": [],
   "source": [
    "import json\n",
    "import pandas as pd\n",
    "\n"
   ]
  },
  {
   "cell_type": "code",
   "execution_count": 11,
   "id": "c0913205-e943-45c8-b14c-014f5472a6ff",
   "metadata": {},
   "outputs": [],
   "source": [
    "annot_path = r\"D:\\Partition\\PROJECTS\\__Personal\\utd_task\\CV-Task\\CV-Task\\descriptions.csv\"\n",
    "output_path = r\"D:\\Partition\\PROJECTS\\__Personal\\utd_task\\CV-Task\\CV-Task\\descriptions.json\"\n",
    "\n",
    "\n",
    "df = pd.read_csv(annot_path)\n"
   ]
  },
  {
   "cell_type": "code",
   "execution_count": 3,
   "id": "94402976-6de3-4bce-8551-fafe9320130c",
   "metadata": {},
   "outputs": [
    {
     "data": {
      "text/html": [
       "<div>\n",
       "<style scoped>\n",
       "    .dataframe tbody tr th:only-of-type {\n",
       "        vertical-align: middle;\n",
       "    }\n",
       "\n",
       "    .dataframe tbody tr th {\n",
       "        vertical-align: top;\n",
       "    }\n",
       "\n",
       "    .dataframe thead th {\n",
       "        text-align: right;\n",
       "    }\n",
       "</style>\n",
       "<table border=\"1\" class=\"dataframe\">\n",
       "  <thead>\n",
       "    <tr style=\"text-align: right;\">\n",
       "      <th></th>\n",
       "      <th>description</th>\n",
       "      <th>file</th>\n",
       "    </tr>\n",
       "  </thead>\n",
       "  <tbody>\n",
       "    <tr>\n",
       "      <th>0</th>\n",
       "      <td>One triangle that is identical to the original...</td>\n",
       "      <td>48d27a28-851f-4fcb-82b1-b252ea5d8295.jpg</td>\n",
       "    </tr>\n",
       "    <tr>\n",
       "      <th>1</th>\n",
       "      <td>one triangle drawn above the original triangle...</td>\n",
       "      <td>420ec849-d0da-4f45-aed0-645bfa3b1d62.jpg</td>\n",
       "    </tr>\n",
       "    <tr>\n",
       "      <th>2</th>\n",
       "      <td>”x2” written next to the original triangle. Ar...</td>\n",
       "      <td>c5cc8cbc-7844-405b-a204-6aca67ef4384.jpg</td>\n",
       "    </tr>\n",
       "    <tr>\n",
       "      <th>3</th>\n",
       "      <td>Student drew and shaded an identical triangle ...</td>\n",
       "      <td>abc6bf50-9b06-4c09-9e7c-90a1403ff860.jpg</td>\n",
       "    </tr>\n",
       "    <tr>\n",
       "      <th>4</th>\n",
       "      <td>a shaded triangle drawn above the original tr...</td>\n",
       "      <td>231b00f3-c151-48a0-a19c-d17882ba7baf.jpg</td>\n",
       "    </tr>\n",
       "  </tbody>\n",
       "</table>\n",
       "</div>"
      ],
      "text/plain": [
       "                                         description  \\\n",
       "0  One triangle that is identical to the original...   \n",
       "1  one triangle drawn above the original triangle...   \n",
       "2  ”x2” written next to the original triangle. Ar...   \n",
       "3  Student drew and shaded an identical triangle ...   \n",
       "4   a shaded triangle drawn above the original tr...   \n",
       "\n",
       "                                       file  \n",
       "0  48d27a28-851f-4fcb-82b1-b252ea5d8295.jpg  \n",
       "1  420ec849-d0da-4f45-aed0-645bfa3b1d62.jpg  \n",
       "2  c5cc8cbc-7844-405b-a204-6aca67ef4384.jpg  \n",
       "3  abc6bf50-9b06-4c09-9e7c-90a1403ff860.jpg  \n",
       "4  231b00f3-c151-48a0-a19c-d17882ba7baf.jpg  "
      ]
     },
     "execution_count": 3,
     "metadata": {},
     "output_type": "execute_result"
    }
   ],
   "source": [
    "df.head()"
   ]
  },
  {
   "cell_type": "code",
   "execution_count": 13,
   "id": "971d1054-10cd-43e4-a151-aeae63de974e",
   "metadata": {},
   "outputs": [],
   "source": [
    "data_dict = {}\n",
    "for index, row in df.iterrows():\n",
    "    data_dict[row['file']] = row['description'].strip()"
   ]
  },
  {
   "cell_type": "code",
   "execution_count": 14,
   "id": "b97301a5-1014-4497-a40f-a110ea3e6dad",
   "metadata": {},
   "outputs": [],
   "source": [
    "import json\n",
    "json.dump(data_dict, open(output_path,'w'), indent=4)"
   ]
  },
  {
   "cell_type": "code",
   "execution_count": null,
   "id": "bb7a6b85-1fca-4ad0-aaba-12f938ce8386",
   "metadata": {},
   "outputs": [],
   "source": []
  }
 ],
 "metadata": {
  "kernelspec": {
   "display_name": "Python 3 (ipykernel)",
   "language": "python",
   "name": "python3"
  },
  "language_info": {
   "codemirror_mode": {
    "name": "ipython",
    "version": 3
   },
   "file_extension": ".py",
   "mimetype": "text/x-python",
   "name": "python",
   "nbconvert_exporter": "python",
   "pygments_lexer": "ipython3",
   "version": "3.8.18"
  }
 },
 "nbformat": 4,
 "nbformat_minor": 5
}
